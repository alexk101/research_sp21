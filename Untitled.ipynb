{
 "cells": [
  {
   "cell_type": "code",
   "execution_count": 3,
   "id": "worst-wisdom",
   "metadata": {},
   "outputs": [],
   "source": [
    "import numpy as np\n",
    "\n",
    "def test_gen(res, abs_mag_thresh):\n",
    "    partition_measures=[]\n",
    "    tick=1/res\n",
    "    thresholds_values = np.array([])\n",
    "    margin = (1-abs_mag_thresh)/2\n",
    "    for i in range(1, res):\n",
    "        temp=tick * i\n",
    "        if(temp>=(margin) and temp<=(1-margin)):\n",
    "            thresholds_values=np.append(thresholds_values, temp)\n",
    "    return thresholds_values"
   ]
  },
  {
   "cell_type": "code",
   "execution_count": 5,
   "id": "prescribed-keeping",
   "metadata": {},
   "outputs": [
    {
     "name": "stdout",
     "output_type": "stream",
     "text": [
      "[0.2   0.225 0.25  0.275 0.3   0.325 0.35  0.375 0.4   0.425 0.45  0.475\n",
      " 0.5   0.525 0.55  0.575 0.6   0.625 0.65  0.675 0.7   0.725 0.75  0.775\n",
      " 0.8  ]\n"
     ]
    }
   ],
   "source": [
    "out=test_gen(40,0.6)\n",
    "print(out)"
   ]
  },
  {
   "cell_type": "code",
   "execution_count": 6,
   "id": "determined-virginia",
   "metadata": {},
   "outputs": [
    {
     "name": "stdout",
     "output_type": "stream",
     "text": [
      "[2 3]\n"
     ]
    }
   ],
   "source": [
    "test = np.arange(2,10)\n",
    "print(test[:2])"
   ]
  },
  {
   "cell_type": "code",
   "execution_count": null,
   "id": "basic-concrete",
   "metadata": {},
   "outputs": [],
   "source": []
  }
 ],
 "metadata": {
  "kernelspec": {
   "display_name": "Python 3",
   "language": "python",
   "name": "python3"
  },
  "language_info": {
   "codemirror_mode": {
    "name": "ipython",
    "version": 3
   },
   "file_extension": ".py",
   "mimetype": "text/x-python",
   "name": "python",
   "nbconvert_exporter": "python",
   "pygments_lexer": "ipython3",
   "version": "3.8.8"
  }
 },
 "nbformat": 4,
 "nbformat_minor": 5
}
