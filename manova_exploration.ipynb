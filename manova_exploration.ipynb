{
 "cells": [
  {
   "cell_type": "code",
   "execution_count": 1,
   "metadata": {},
   "outputs": [],
   "source": [
    "import pandas as pd\n",
    "from statsmodels.multivariate.manova import MANOVA\n",
    "import numpy as np\n",
    "import matplotlib.pyplot as plt\n",
    "from matplotlib.gridspec import GridSpec\n",
    "import pandas as pd\n",
    "import math\n",
    "\n",
    "from sklearn.cluster import KMeans\n",
    "from sklearn import datasets"
   ]
  },
  {
   "cell_type": "code",
   "execution_count": 2,
   "metadata": {},
   "outputs": [],
   "source": [
    "iris = datasets.load_iris()"
   ]
  },
  {
   "cell_type": "code",
   "execution_count": 8,
   "metadata": {},
   "outputs": [
    {
     "name": "stdout",
     "output_type": "stream",
     "text": [
      "[0 0 0 0 0 0 0 0 0 0 0 0 0 0 0 0 0 0 0 0 0 0 0 0 0 0 0 0 0 0 0 0 0 0 0 0 0\n",
      " 0 0 0 0 0 0 0 0 0 0 0 0 0 1 1 1 1 1 1 1 1 1 1 1 1 1 1 1 1 1 1 1 1 1 1 1 1\n",
      " 1 1 1 1 1 1 1 1 1 1 1 1 1 1 1 1 1 1 1 1 1 1 1 1 1 1 2 2 2 2 2 2 2 2 2 2 2\n",
      " 2 2 2 2 2 2 2 2 2 2 2 2 2 2 2 2 2 2 2 2 2 2 2 2 2 2 2 2 2 2 2 2 2 2 2 2 2\n",
      " 2 2]\n"
     ]
    }
   ],
   "source": [
    "X = iris.data\n",
    "y = iris.target"
   ]
  },
  {
   "cell_type": "code",
   "execution_count": 4,
   "metadata": {},
   "outputs": [
    {
     "name": "stdout",
     "output_type": "stream",
     "text": [
      "                   Multivariate linear model\n",
      "================================================================\n",
      "                                                                \n",
      "----------------------------------------------------------------\n",
      "           x0            Value  Num DF  Den DF   F Value  Pr > F\n",
      "----------------------------------------------------------------\n",
      "          Wilks' lambda  0.0280 4.0000 146.0000 1266.9972 0.0000\n",
      "         Pillai's trace  0.9720 4.0000 146.0000 1266.9972 0.0000\n",
      " Hotelling-Lawley trace 34.7123 4.0000 146.0000 1266.9972 0.0000\n",
      "    Roy's greatest root 34.7123 4.0000 146.0000 1266.9972 0.0000\n",
      "================================================================\n",
      "\n"
     ]
    }
   ],
   "source": [
    "manova = MANOVA(endog=X, exog=y)\n",
    "print(manova.mv_test())\n",
    "#res = manova.mv_test()"
   ]
  },
  {
   "cell_type": "code",
   "execution_count": 55,
   "metadata": {},
   "outputs": [
    {
     "name": "stdout",
     "output_type": "stream",
     "text": [
      "                  Multivariate linear model\n",
      "=============================================================\n",
      "                                                             \n",
      "-------------------------------------------------------------\n",
      "           x0           Value  Num DF  Den DF  F Value Pr > F\n",
      "-------------------------------------------------------------\n",
      "          Wilks' lambda 0.4034 4.0000 146.0000 53.9845 0.0000\n",
      "         Pillai's trace 0.5966 4.0000 146.0000 53.9845 0.0000\n",
      " Hotelling-Lawley trace 1.4790 4.0000 146.0000 53.9845 0.0000\n",
      "    Roy's greatest root 1.4790 4.0000 146.0000 53.9845 0.0000\n",
      "=============================================================\n",
      "\n"
     ]
    }
   ],
   "source": [
    "kmeans = KMeans(n_clusters=3).fit(X)\n",
    "labels = kmeans.labels_\n",
    "manova = MANOVA(endog=X, exog=labels)\n",
    "print(manova.mv_test())"
   ]
  },
  {
   "cell_type": "code",
   "execution_count": 40,
   "metadata": {},
   "outputs": [
    {
     "name": "stdout",
     "output_type": "stream",
     "text": [
      "                  Multivariate linear model\n",
      "=============================================================\n",
      "                                                             \n",
      "-------------------------------------------------------------\n",
      "           x0           Value  Num DF  Den DF  F Value Pr > F\n",
      "-------------------------------------------------------------\n",
      "          Wilks' lambda 0.3881 4.0000 146.0000 57.5462 0.0000\n",
      "         Pillai's trace 0.6119 4.0000 146.0000 57.5462 0.0000\n",
      " Hotelling-Lawley trace 1.5766 4.0000 146.0000 57.5462 0.0000\n",
      "    Roy's greatest root 1.5766 4.0000 146.0000 57.5462 0.0000\n",
      "=============================================================\n",
      "\n"
     ]
    },
    {
     "name": "stderr",
     "output_type": "stream",
     "text": [
      "<ipython-input-40-059f229ba7c6>:3: DeprecationWarning: This function is deprecated. Please call randint(0, 2 + 1) instead\n",
      "  rand_labels.append(np.random.random_integers(0,2))\n"
     ]
    }
   ],
   "source": [
    "rand_labels = []\n",
    "for i in X:\n",
    "    rand_labels.append(np.random.random_integers(0,2))\n",
    "rand_labels = np.array(rand_labels)    \n",
    "    \n",
    "manova = MANOVA(endog=X, exog=rand_labels)\n",
    "print(manova.mv_test())"
   ]
  },
  {
   "cell_type": "code",
   "execution_count": 49,
   "metadata": {},
   "outputs": [
    {
     "name": "stdout",
     "output_type": "stream",
     "text": [
      "                   Multivariate linear model\n",
      "===============================================================\n",
      "                                                               \n",
      "---------------------------------------------------------------\n",
      "           x0            Value  Num DF  Den DF  F Value  Pr > F\n",
      "---------------------------------------------------------------\n",
      "          Wilks' lambda  0.0443 4.0000 146.0000 786.5264 0.0000\n",
      "         Pillai's trace  0.9557 4.0000 146.0000 786.5264 0.0000\n",
      " Hotelling-Lawley trace 21.5487 4.0000 146.0000 786.5264 0.0000\n",
      "    Roy's greatest root 21.5487 4.0000 146.0000 786.5264 0.0000\n",
      "===============================================================\n",
      "\n"
     ]
    }
   ],
   "source": [
    "kmeans = KMeans(n_clusters=3).fit(X)\n",
    "labels = kmeans.labels_\n",
    "manova = MANOVA(endog=X, exog=labels)\n",
    "print(manova.mv_test())"
   ]
  },
  {
   "cell_type": "code",
   "execution_count": 48,
   "metadata": {},
   "outputs": [],
   "source": [
    "n_clusters = [2,3,4,5,6,7,8,9,10]\n",
    "kmeans_initial_center_list = []\n",
    "for k in n_clusters:\n",
    "    np.random.seed(321)\n",
    "    idx = np.random.randint(X.shape[0], size=k)\n",
    "    initial_centers = []\n",
    "    for i in idx:\n",
    "        initial_centers.append(X[i])\n",
    "    initial_centers = np.array(initial_centers)\n",
    "    #np.savetxt(\"initial_centers.csv\", initial_centers, delimiter=\",\")\n",
    "    kmeans_initial_center_list.append(initial_centers)"
   ]
  },
  {
   "cell_type": "code",
   "execution_count": 51,
   "metadata": {},
   "outputs": [
    {
     "name": "stdout",
     "output_type": "stream",
     "text": [
      "Using k = 2\n",
      "                   Multivariate linear model\n",
      "===============================================================\n",
      "                                                               \n",
      "---------------------------------------------------------------\n",
      "           x0            Value  Num DF  Den DF  F Value  Pr > F\n",
      "---------------------------------------------------------------\n",
      "          Wilks' lambda  0.0460 4.0000 146.0000 756.4199 0.0000\n",
      "         Pillai's trace  0.9540 4.0000 146.0000 756.4199 0.0000\n",
      " Hotelling-Lawley trace 20.7238 4.0000 146.0000 756.4199 0.0000\n",
      "    Roy's greatest root 20.7238 4.0000 146.0000 756.4199 0.0000\n",
      "===============================================================\n",
      "\n",
      "Using k = 3\n",
      "                  Multivariate linear model\n",
      "==============================================================\n",
      "                                                              \n",
      "--------------------------------------------------------------\n",
      "           x0           Value  Num DF  Den DF  F Value  Pr > F\n",
      "--------------------------------------------------------------\n",
      "          Wilks' lambda 0.1813 4.0000 146.0000 164.7958 0.0000\n",
      "         Pillai's trace 0.8187 4.0000 146.0000 164.7958 0.0000\n",
      " Hotelling-Lawley trace 4.5150 4.0000 146.0000 164.7958 0.0000\n",
      "    Roy's greatest root 4.5150 4.0000 146.0000 164.7958 0.0000\n",
      "==============================================================\n",
      "\n",
      "Using k = 4\n",
      "                  Multivariate linear model\n",
      "=============================================================\n",
      "                                                             \n",
      "-------------------------------------------------------------\n",
      "           x0           Value  Num DF  Den DF  F Value Pr > F\n",
      "-------------------------------------------------------------\n",
      "          Wilks' lambda 0.2823 4.0000 146.0000 92.7997 0.0000\n",
      "         Pillai's trace 0.7177 4.0000 146.0000 92.7997 0.0000\n",
      " Hotelling-Lawley trace 2.5425 4.0000 146.0000 92.7997 0.0000\n",
      "    Roy's greatest root 2.5425 4.0000 146.0000 92.7997 0.0000\n",
      "=============================================================\n",
      "\n",
      "Using k = 5\n",
      "                  Multivariate linear model\n",
      "=============================================================\n",
      "                                                             \n",
      "-------------------------------------------------------------\n",
      "           x0           Value  Num DF  Den DF  F Value Pr > F\n",
      "-------------------------------------------------------------\n",
      "          Wilks' lambda 0.2829 4.0000 146.0000 92.5385 0.0000\n",
      "         Pillai's trace 0.7171 4.0000 146.0000 92.5385 0.0000\n",
      " Hotelling-Lawley trace 2.5353 4.0000 146.0000 92.5385 0.0000\n",
      "    Roy's greatest root 2.5353 4.0000 146.0000 92.5385 0.0000\n",
      "=============================================================\n",
      "\n",
      "Using k = 6\n",
      "                  Multivariate linear model\n",
      "=============================================================\n",
      "                                                             \n",
      "-------------------------------------------------------------\n",
      "           x0           Value  Num DF  Den DF  F Value Pr > F\n",
      "-------------------------------------------------------------\n",
      "          Wilks' lambda 0.2712 4.0000 146.0000 98.0722 0.0000\n",
      "         Pillai's trace 0.7288 4.0000 146.0000 98.0722 0.0000\n",
      " Hotelling-Lawley trace 2.6869 4.0000 146.0000 98.0722 0.0000\n",
      "    Roy's greatest root 2.6869 4.0000 146.0000 98.0722 0.0000\n",
      "=============================================================\n",
      "\n",
      "Using k = 7\n",
      "                  Multivariate linear model\n",
      "==============================================================\n",
      "                                                              \n",
      "--------------------------------------------------------------\n",
      "           x0           Value  Num DF  Den DF  F Value  Pr > F\n",
      "--------------------------------------------------------------\n",
      "          Wilks' lambda 0.2203 4.0000 146.0000 129.1888 0.0000\n",
      "         Pillai's trace 0.7797 4.0000 146.0000 129.1888 0.0000\n",
      " Hotelling-Lawley trace 3.5394 4.0000 146.0000 129.1888 0.0000\n",
      "    Roy's greatest root 3.5394 4.0000 146.0000 129.1888 0.0000\n",
      "==============================================================\n",
      "\n",
      "Using k = 8\n",
      "                  Multivariate linear model\n",
      "==============================================================\n",
      "                                                              \n",
      "--------------------------------------------------------------\n",
      "           x0           Value  Num DF  Den DF  F Value  Pr > F\n",
      "--------------------------------------------------------------\n",
      "          Wilks' lambda 0.2313 4.0000 146.0000 121.3215 0.0000\n",
      "         Pillai's trace 0.7687 4.0000 146.0000 121.3215 0.0000\n",
      " Hotelling-Lawley trace 3.3239 4.0000 146.0000 121.3215 0.0000\n",
      "    Roy's greatest root 3.3239 4.0000 146.0000 121.3215 0.0000\n",
      "==============================================================\n",
      "\n",
      "Using k = 9\n"
     ]
    },
    {
     "name": "stderr",
     "output_type": "stream",
     "text": [
      "/home/taufique/Codes/onweshon/consensus_clustering/venv/lib/python3.9/site-packages/sklearn/cluster/_kmeans.py:984: RuntimeWarning: Explicit initial center position passed: performing only one init in KMeans instead of n_init=10.\n",
      "  self._check_params(X)\n",
      "/home/taufique/Codes/onweshon/consensus_clustering/venv/lib/python3.9/site-packages/sklearn/cluster/_kmeans.py:984: RuntimeWarning: Explicit initial center position passed: performing only one init in KMeans instead of n_init=10.\n",
      "  self._check_params(X)\n",
      "/home/taufique/Codes/onweshon/consensus_clustering/venv/lib/python3.9/site-packages/sklearn/cluster/_kmeans.py:984: RuntimeWarning: Explicit initial center position passed: performing only one init in KMeans instead of n_init=10.\n",
      "  self._check_params(X)\n",
      "/home/taufique/Codes/onweshon/consensus_clustering/venv/lib/python3.9/site-packages/sklearn/cluster/_kmeans.py:984: RuntimeWarning: Explicit initial center position passed: performing only one init in KMeans instead of n_init=10.\n",
      "  self._check_params(X)\n",
      "/home/taufique/Codes/onweshon/consensus_clustering/venv/lib/python3.9/site-packages/sklearn/cluster/_kmeans.py:984: RuntimeWarning: Explicit initial center position passed: performing only one init in KMeans instead of n_init=10.\n",
      "  self._check_params(X)\n",
      "/home/taufique/Codes/onweshon/consensus_clustering/venv/lib/python3.9/site-packages/sklearn/cluster/_kmeans.py:984: RuntimeWarning: Explicit initial center position passed: performing only one init in KMeans instead of n_init=10.\n",
      "  self._check_params(X)\n",
      "/home/taufique/Codes/onweshon/consensus_clustering/venv/lib/python3.9/site-packages/sklearn/cluster/_kmeans.py:984: RuntimeWarning: Explicit initial center position passed: performing only one init in KMeans instead of n_init=10.\n",
      "  self._check_params(X)\n",
      "/home/taufique/Codes/onweshon/consensus_clustering/venv/lib/python3.9/site-packages/sklearn/cluster/_kmeans.py:984: RuntimeWarning: Explicit initial center position passed: performing only one init in KMeans instead of n_init=10.\n",
      "  self._check_params(X)\n"
     ]
    },
    {
     "name": "stdout",
     "output_type": "stream",
     "text": [
      "                  Multivariate linear model\n",
      "==============================================================\n",
      "                                                              \n",
      "--------------------------------------------------------------\n",
      "           x0           Value  Num DF  Den DF  F Value  Pr > F\n",
      "--------------------------------------------------------------\n",
      "          Wilks' lambda 0.1202 4.0000 146.0000 267.0549 0.0000\n",
      "         Pillai's trace 0.8798 4.0000 146.0000 267.0549 0.0000\n",
      " Hotelling-Lawley trace 7.3166 4.0000 146.0000 267.0549 0.0000\n",
      "    Roy's greatest root 7.3166 4.0000 146.0000 267.0549 0.0000\n",
      "==============================================================\n",
      "\n",
      "Using k = 10\n",
      "                  Multivariate linear model\n",
      "==============================================================\n",
      "                                                              \n",
      "--------------------------------------------------------------\n",
      "           x0           Value  Num DF  Den DF  F Value  Pr > F\n",
      "--------------------------------------------------------------\n",
      "          Wilks' lambda 0.2058 4.0000 146.0000 140.8627 0.0000\n",
      "         Pillai's trace 0.7942 4.0000 146.0000 140.8627 0.0000\n",
      " Hotelling-Lawley trace 3.8593 4.0000 146.0000 140.8627 0.0000\n",
      "    Roy's greatest root 3.8593 4.0000 146.0000 140.8627 0.0000\n",
      "==============================================================\n",
      "\n"
     ]
    },
    {
     "name": "stderr",
     "output_type": "stream",
     "text": [
      "/home/taufique/Codes/onweshon/consensus_clustering/venv/lib/python3.9/site-packages/sklearn/cluster/_kmeans.py:984: RuntimeWarning: Explicit initial center position passed: performing only one init in KMeans instead of n_init=10.\n",
      "  self._check_params(X)\n"
     ]
    }
   ],
   "source": [
    "for initial_centers in kmeans_initial_center_list:\n",
    "    print(\"Using k =\", initial_centers.shape[0])\n",
    "    kmeans = KMeans(n_clusters=initial_centers.shape[0], init=initial_centers).fit(X)\n",
    "    labels = kmeans.labels_\n",
    "    manova = MANOVA(endog=X, exog=labels)\n",
    "    print(manova.mv_test())"
   ]
  },
  {
   "cell_type": "markdown",
   "metadata": {},
   "source": [
    "# Visualizing on simple synthetic handmade data"
   ]
  },
  {
   "cell_type": "code",
   "execution_count": 59,
   "metadata": {},
   "outputs": [],
   "source": [
    "data = [[1,1],\n",
    "        [1,2],\n",
    "        [2,1],\n",
    "        [2,2],\n",
    "        [2,3], \n",
    "        [3,2], \n",
    "        [3,3], \n",
    "        [3,7], \n",
    "        [3,8], \n",
    "        [3,9], \n",
    "        [4,7], \n",
    "        [4,8], \n",
    "        [4,9], \n",
    "        [6,3], \n",
    "        [6,4], \n",
    "        [7,3], \n",
    "        [7,4], \n",
    "        [8,3], \n",
    "        [8,4]]\n"
   ]
  },
  {
   "cell_type": "code",
   "execution_count": 60,
   "metadata": {},
   "outputs": [],
   "source": [
    "X = np.array(data)\n",
    "y = np.array(labels)"
   ]
  },
  {
   "cell_type": "code",
   "execution_count": 61,
   "metadata": {},
   "outputs": [
    {
     "data": {
      "text/plain": [
       "array([[1, 1],\n",
       "       [1, 2],\n",
       "       [2, 1],\n",
       "       [2, 2],\n",
       "       [2, 3],\n",
       "       [3, 2],\n",
       "       [3, 3],\n",
       "       [3, 7],\n",
       "       [3, 8],\n",
       "       [3, 9],\n",
       "       [4, 7],\n",
       "       [4, 8],\n",
       "       [4, 9],\n",
       "       [6, 3],\n",
       "       [6, 4],\n",
       "       [7, 3],\n",
       "       [7, 4],\n",
       "       [8, 3],\n",
       "       [8, 4]])"
      ]
     },
     "execution_count": 61,
     "metadata": {},
     "output_type": "execute_result"
    }
   ],
   "source": [
    "X"
   ]
  },
  {
   "cell_type": "code",
   "execution_count": 67,
   "metadata": {},
   "outputs": [
    {
     "data": {
      "image/png": "[encoded data removed]",
      "text/plain": [
       "<Figure size 432x432 with 1 Axes>"
      ]
     },
     "metadata": {
      "needs_background": "light"
     },
     "output_type": "display_data"
    }
   ],
   "source": [
    "fig = plt.figure(figsize=(6, 6))\n",
    "gs = GridSpec(nrows=1, ncols=1)\n",
    "\n",
    "# Create subplots in each of the grid cells\n",
    "ax = fig.add_subplot(gs[0,0])\n",
    "\n",
    "ax.scatter(X[:,0], X[:,1])\n",
    "ax.grid(axis=\"both\",linestyle='dotted')"
   ]
  },
  {
   "cell_type": "code",
   "execution_count": 69,
   "metadata": {},
   "outputs": [
    {
     "name": "stdout",
     "output_type": "stream",
     "text": [
      "                 Multivariate linear model\n",
      "============================================================\n",
      "                                                            \n",
      "------------------------------------------------------------\n",
      "           x0           Value  Num DF  Den DF F Value Pr > F\n",
      "------------------------------------------------------------\n",
      "          Wilks' lambda 0.0925 2.0000 17.0000 83.3507 0.0000\n",
      "         Pillai's trace 0.9075 2.0000 17.0000 83.3507 0.0000\n",
      " Hotelling-Lawley trace 9.8060 2.0000 17.0000 83.3507 0.0000\n",
      "    Roy's greatest root 9.8060 2.0000 17.0000 83.3507 0.0000\n",
      "============================================================\n",
      "\n"
     ]
    }
   ],
   "source": [
    "# Labels following ground truth clustering structure\n",
    "labels = [0,0,0,0,0,0,0,1,1,1,1,1,1,2,2,2,2,2,2]\n",
    "manova = MANOVA(endog=X, exog=labels)\n",
    "print(manova.mv_test())"
   ]
  },
  {
   "cell_type": "code",
   "execution_count": 70,
   "metadata": {},
   "outputs": [
    {
     "name": "stdout",
     "output_type": "stream",
     "text": [
      "                 Multivariate linear model\n",
      "============================================================\n",
      "                                                            \n",
      "------------------------------------------------------------\n",
      "           x0           Value  Num DF  Den DF F Value Pr > F\n",
      "------------------------------------------------------------\n",
      "          Wilks' lambda 0.5040 2.0000 17.0000  8.3640 0.0030\n",
      "         Pillai's trace 0.4960 2.0000 17.0000  8.3640 0.0030\n",
      " Hotelling-Lawley trace 0.9840 2.0000 17.0000  8.3640 0.0030\n",
      "    Roy's greatest root 0.9840 2.0000 17.0000  8.3640 0.0030\n",
      "============================================================\n",
      "\n"
     ]
    }
   ],
   "source": [
    "# Labels following random clustering structure\n",
    "labels = [0,1,2,0,1,2,0,1,2,0,1,2,0,1,2,0,1,2,0]\n",
    "manova = MANOVA(endog=X, exog=labels)\n",
    "print(manova.mv_test())"
   ]
  },
  {
   "cell_type": "code",
   "execution_count": null,
   "metadata": {},
   "outputs": [],
   "source": []
  }
 ],
 "metadata": {
  "kernelspec": {
   "display_name": "Python 3",
   "language": "python",
   "name": "python3"
  },
  "language_info": {
   "codemirror_mode": {
    "name": "ipython",
    "version": 3
   },
   "file_extension": ".py",
   "mimetype": "text/x-python",
   "name": "python",
   "nbconvert_exporter": "python",
   "pygments_lexer": "ipython3",
   "version": "3.8.8"
  }
 },
 "nbformat": 4,
 "nbformat_minor": 4
}
